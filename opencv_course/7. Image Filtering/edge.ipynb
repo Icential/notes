{
 "cells": [
  {
   "cell_type": "markdown",
   "metadata": {},
   "source": [
    "### Summary"
   ]
  },
  {
   "cell_type": "markdown",
   "metadata": {},
   "source": [
    "- See different filters for the camera"
   ]
  },
  {
   "cell_type": "markdown",
   "metadata": {},
   "source": [
    "### Imports"
   ]
  },
  {
   "cell_type": "code",
   "execution_count": 1,
   "metadata": {},
   "outputs": [],
   "source": [
    "import cv2\n",
    "import numpy as np"
   ]
  },
  {
   "cell_type": "markdown",
   "metadata": {},
   "source": [
    "### Camera Filters"
   ]
  },
  {
   "cell_type": "code",
   "execution_count": 2,
   "metadata": {},
   "outputs": [],
   "source": [
    "# parameters for feature filter\n",
    "feature_params = dict(\n",
    "    maxCorners = 500,\n",
    "    qualityLevel = 0.05,\n",
    "    minDistance = 50,\n",
    "    blockSize = 9\n",
    ")\n",
    "\n",
    "# filters\n",
    "PREVIEW = 0 # default\n",
    "BLUR = 1 # blurs\n",
    "FEATURES = 2 # detects prominent edges (?)\n",
    "CANNY = 3 # highlights all edges\n",
    "GRAY = 4 # grayscale\n",
    "\n",
    "# global variable dump\n",
    "filter = PREVIEW\n",
    "status = True\n",
    "res = None\n",
    "\n",
    "# window edit\n",
    "win_name = \"Filters\"\n",
    "cv2.namedWindow(win_name, cv2.WINDOW_NORMAL)\n",
    "\n",
    "source = cv2.VideoCapture(0)\n",
    "\n",
    "# capture loop\n",
    "while status:\n",
    "\n",
    "    # read capture\n",
    "    retval, frame = source.read()\n",
    "    if not retval:\n",
    "        break\n",
    "\n",
    "    # edit frame per filter\n",
    "    if filter == PREVIEW:\n",
    "        res = frame\n",
    "    elif filter == BLUR:\n",
    "        res = cv2.blur(frame, (13, 13))\n",
    "    elif filter == FEATURES:\n",
    "        res = frame\n",
    "        frame_gray = cv2.cvtColor(frame, cv2.COLOR_BGR2GRAY)\n",
    "        corners = cv2.goodFeaturesToTrack(frame_gray, **feature_params)\n",
    "        if corners is not None:\n",
    "            for x, y in np.uint8(corners).reshape(-1, 2):\n",
    "                cv2.circle(res, (x, y), 10, (255, 0, 0), 3)\n",
    "    elif filter == CANNY:\n",
    "        res = cv2.Canny(frame, 80, 150)\n",
    "    elif filter == GRAY:\n",
    "        res = cv2.cvtColor(frame, cv2.COLOR_BGR2GRAY)\n",
    "\n",
    "    # show result frame after filter\n",
    "    cv2.imshow(win_name, res)\n",
    "\n",
    "    # keybinds\n",
    "    key = cv2.waitKey(1)\n",
    "    if key == 27:\n",
    "        status = False\n",
    "    elif key == ord(\"1\"):\n",
    "        filter = BLUR\n",
    "    elif key == ord(\"2\"):\n",
    "        filter = FEATURES\n",
    "    elif key == ord(\"3\"):\n",
    "        filter = CANNY\n",
    "    elif key == ord(\"4\"):\n",
    "        filter = GRAY\n",
    "    elif key == ord(\"0\"):\n",
    "        filter = PREVIEW\n",
    "\n",
    "# exit and release camera and window\n",
    "source.release()\n",
    "cv2.destroyAllWindows()"
   ]
  }
 ],
 "metadata": {
  "kernelspec": {
   "display_name": "base",
   "language": "python",
   "name": "python3"
  },
  "language_info": {
   "codemirror_mode": {
    "name": "ipython",
    "version": 3
   },
   "file_extension": ".py",
   "mimetype": "text/x-python",
   "name": "python",
   "nbconvert_exporter": "python",
   "pygments_lexer": "ipython3",
   "version": "3.11.4"
  }
 },
 "nbformat": 4,
 "nbformat_minor": 2
}
